{
 "cells": [
  {
   "cell_type": "code",
   "execution_count": 4,
   "metadata": {},
   "outputs": [],
   "source": [
    "import numpy as np\n",
    "QY=np.array([[16,11,10,16,24,40,51,61],\n",
    "            [12,12,14,19,26,58,60,55],\n",
    "            [14,13,16,24,40,57,69,56],\n",
    "            [14,17,22,29,51,87,80,62],\n",
    "            [18,22,37,56,68,109,103,77],\n",
    "            [24,35,55,64,81,104,113,92],\n",
    "            [49,64,78,87,103,121,120,101],\n",
    "            [72,92,95,98,112,100,103,99]])"
   ]
  },
  {
   "cell_type": "code",
   "execution_count": 5,
   "metadata": {},
   "outputs": [
    {
     "name": "stdout",
     "output_type": "stream",
     "text": [
      "[[ 16  12  14  14  18  24  49  72]\n",
      " [ 11  12  13  17  22  35  64  92]\n",
      " [ 10  14  16  22  37  55  78  95]\n",
      " [ 16  19  24  29  56  64  87  98]\n",
      " [ 24  26  40  51  68  81 103 112]\n",
      " [ 40  58  57  87 109 104 121 100]\n",
      " [ 51  60  69  80 103 113 120 103]\n",
      " [ 61  55  56  62  77  92 101  99]]\n"
     ]
    }
   ],
   "source": [
    "print(QY.T)"
   ]
  },
  {
   "cell_type": "code",
   "execution_count": null,
   "metadata": {},
   "outputs": [],
   "source": []
  }
 ],
 "metadata": {
  "kernelspec": {
   "display_name": "NLP",
   "language": "python",
   "name": "python3"
  },
  "language_info": {
   "codemirror_mode": {
    "name": "ipython",
    "version": 3
   },
   "file_extension": ".py",
   "mimetype": "text/x-python",
   "name": "python",
   "nbconvert_exporter": "python",
   "pygments_lexer": "ipython3",
   "version": "3.11.5"
  }
 },
 "nbformat": 4,
 "nbformat_minor": 2
}
